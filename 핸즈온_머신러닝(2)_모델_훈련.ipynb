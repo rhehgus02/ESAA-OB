{
  "nbformat": 4,
  "nbformat_minor": 0,
  "metadata": {
    "colab": {
      "provenance": [],
      "include_colab_link": true
    },
    "kernelspec": {
      "name": "python3",
      "display_name": "Python 3"
    },
    "language_info": {
      "name": "python"
    }
  },
  "cells": [
    {
      "cell_type": "markdown",
      "metadata": {
        "id": "view-in-github",
        "colab_type": "text"
      },
      "source": [
        "<a href=\"https://colab.research.google.com/github/rhehgus02/ESAA_OB/blob/main/%ED%95%B8%EC%A6%88%EC%98%A8_%EB%A8%B8%EC%8B%A0%EB%9F%AC%EB%8B%9D(2)_%EB%AA%A8%EB%8D%B8_%ED%9B%88%EB%A0%A8.ipynb\" target=\"_parent\"><img src=\"https://colab.research.google.com/assets/colab-badge.svg\" alt=\"Open In Colab\"/></a>"
      ]
    },
    {
      "cell_type": "markdown",
      "source": [
        "\n",
        "## 4.1 선형회귀\n",
        "\n",
        "1. 선형회귀 모델의 예측\n",
        "\n",
        "$$\\hat{y} = \\theta_0 + \\theta_1x_1 + ...+\\theta_nx_n$$\n",
        "\n",
        "* $\\hat{y}$은 예측값\n",
        "* $n$은 특성의 수\n",
        "* $x_i$는 i번째 특성값\n",
        "* $\\theta_j$는 j번째 모델 파라미터 (편향 $\\theta_0$과 특성의 가중치를 포함)\n",
        "\n",
        "1) 모델을 훈련시킨다는 것은 모델이 **훈련세트**에 가장 잘 맞도록 **모델 파라미터**를 설정하는 것 -> `선형회귀 모델을 훈련시키려면 RMSE를 최소화 하는 수를 찾아야함`\n",
        "\n"
      ],
      "metadata": {
        "id": "EdIDPefyhFnO"
      }
    },
    {
      "cell_type": "markdown",
      "source": [
        "###4.1.1 정규방정식\n",
        "\n",
        "$$\\hat{\\theta} = (X^TX)^{-1} X^Ty$$\n",
        "\n",
        "* $\\hat{\\theta}$는 비용함수를 최소화 하는 값\n",
        "* y는 y(1)부터 y(m)까지 포함하는 타깃벡터"
      ],
      "metadata": {
        "id": "53lbyVMTi_VP"
      }
    },
    {
      "cell_type": "code",
      "source": [
        "import numpy as np\n",
        "X = 2* np.random.rand(100,1)\n",
        "y = 4+3*X + np.random.rand(100,1)"
      ],
      "metadata": {
        "id": "bjnqn_ctjpAy"
      },
      "execution_count": null,
      "outputs": []
    },
    {
      "cell_type": "code",
      "source": [
        "#넘파이 선형대수 모듈에 있는 inv함수를 사용해 역행렬을 계산하고 dot 메서트를 사용해 행렬 곱셈\n",
        "\n",
        "X_b = np.c_[np.ones((100,1)),X]\n",
        "theta_best = np.linalg.inv(X_b.T.dot(X_b)).dot(X_b.T).dot(y)"
      ],
      "metadata": {
        "id": "Tc6YCAI2kPjA"
      },
      "execution_count": null,
      "outputs": []
    },
    {
      "cell_type": "markdown",
      "source": [
        "* $\\theta_0$ = 4 와 $\\theta_1$ = 3을 기대했지만 잡음 때문에 원래 함수의 파라미터 정확하게 재현 못함"
      ],
      "metadata": {
        "id": "kN2QX2iSknMF"
      }
    },
    {
      "cell_type": "code",
      "source": [
        "theta_best"
      ],
      "metadata": {
        "colab": {
          "base_uri": "https://localhost:8080/"
        },
        "id": "e2ExRhYTkgND",
        "outputId": "8cc23eda-7d1e-4525-c2f9-18ca569c3923"
      },
      "execution_count": null,
      "outputs": [
        {
          "output_type": "execute_result",
          "data": {
            "text/plain": [
              "array([[4.50232125],\n",
              "       [3.00574125]])"
            ]
          },
          "metadata": {},
          "execution_count": 36
        }
      ]
    },
    {
      "cell_type": "code",
      "source": [
        "X_new = np.array([[0],[2]])\n",
        "X_new_b = np.c_[np.ones((2,1)),X_new] #모든 샘플에 x0 = 1추가\n",
        "y_predict = X_new_b.dot(theta_best)\n",
        "y_predict = X_new_b.dot(theta_best)\n",
        "y_predict"
      ],
      "metadata": {
        "colab": {
          "base_uri": "https://localhost:8080/"
        },
        "id": "W5hfHa6IkzUs",
        "outputId": "1d544f9a-b238-4d8d-de31-858daf12ae51"
      },
      "execution_count": null,
      "outputs": [
        {
          "output_type": "execute_result",
          "data": {
            "text/plain": [
              "array([[ 4.50232125],\n",
              "       [10.51380375]])"
            ]
          },
          "metadata": {},
          "execution_count": 37
        }
      ]
    },
    {
      "cell_type": "code",
      "source": [
        "import matplotlib.pyplot as plt\n",
        "plt.plot(X_new,y_predict,'r-')\n",
        "plt.plot(X,y,'b.')\n",
        "plt.axis([0,2,0,15])\n",
        "plt.show()"
      ],
      "metadata": {
        "colab": {
          "base_uri": "https://localhost:8080/",
          "height": 265
        },
        "id": "TaUVytfllDSI",
        "outputId": "09ba89a6-7b3a-46b2-dda8-02192131cd69"
      },
      "execution_count": null,
      "outputs": [
        {
          "output_type": "display_data",
          "data": {
            "text/plain": [
              "<Figure size 432x288 with 1 Axes>"
            ],
            "image/png": "[encoded data removed]"
          },
          "metadata": {
            "needs_background": "light"
          }
        }
      ]
    },
    {
      "cell_type": "markdown",
      "source": [
        "* **사이킷런**에서의 선형 회귀 수행"
      ],
      "metadata": {
        "id": "xhzFkqdflULF"
      }
    },
    {
      "cell_type": "code",
      "source": [
        "from sklearn.linear_model import LinearRegression\n",
        "lin_reg = LinearRegression()\n",
        "lin_reg.fit(X,y)"
      ],
      "metadata": {
        "colab": {
          "base_uri": "https://localhost:8080/"
        },
        "id": "h8282HjtlWOd",
        "outputId": "c4f6733d-1357-474d-d4f2-fef3c9b7936d"
      },
      "execution_count": null,
      "outputs": [
        {
          "output_type": "execute_result",
          "data": {
            "text/plain": [
              "LinearRegression()"
            ]
          },
          "metadata": {},
          "execution_count": 39
        }
      ]
    },
    {
      "cell_type": "code",
      "source": [
        "lin_reg.intercept_,lin_reg.coef_"
      ],
      "metadata": {
        "colab": {
          "base_uri": "https://localhost:8080/"
        },
        "id": "CmL8R6DilkPK",
        "outputId": "590f0826-59f4-4742-cb23-cba11792e3e4"
      },
      "execution_count": null,
      "outputs": [
        {
          "output_type": "execute_result",
          "data": {
            "text/plain": [
              "(array([4.50232125]), array([[3.00574125]]))"
            ]
          },
          "metadata": {},
          "execution_count": 40
        }
      ]
    },
    {
      "cell_type": "code",
      "source": [
        "lin_reg.predict(X_new)"
      ],
      "metadata": {
        "colab": {
          "base_uri": "https://localhost:8080/"
        },
        "id": "S10y484gloGp",
        "outputId": "31574917-ed04-40ff-de56-44ecefa2776c"
      },
      "execution_count": null,
      "outputs": [
        {
          "output_type": "execute_result",
          "data": {
            "text/plain": [
              "array([[ 4.50232125],\n",
              "       [10.51380375]])"
            ]
          },
          "metadata": {},
          "execution_count": 41
        }
      ]
    },
    {
      "cell_type": "code",
      "source": [
        "theta_best_svd,residuals,rank, s = np.linalg.lstsq(X_b,y,rcond = 1e-6)"
      ],
      "metadata": {
        "id": "hyUPzzBSl09b"
      },
      "execution_count": null,
      "outputs": []
    },
    {
      "cell_type": "code",
      "source": [
        "theta_best_svd"
      ],
      "metadata": {
        "colab": {
          "base_uri": "https://localhost:8080/"
        },
        "id": "mi2vSxcul7Jd",
        "outputId": "645fc520-c9ee-4148-e3dd-6fa14c3b236e"
      },
      "execution_count": null,
      "outputs": [
        {
          "output_type": "execute_result",
          "data": {
            "text/plain": [
              "array([[4.50232125],\n",
              "       [3.00574125]])"
            ]
          },
          "metadata": {},
          "execution_count": 43
        }
      ]
    },
    {
      "cell_type": "markdown",
      "source": [
        "* $\\hat{\\theta} = X^{+}y$를 계산해주는 함수\n",
        "* $X^{+}$는 $X$의 **유사역행렬**"
      ],
      "metadata": {
        "id": "exn1TKmWmDZa"
      }
    },
    {
      "cell_type": "code",
      "source": [
        "np.linalg.pinv(X_b).dot(y)"
      ],
      "metadata": {
        "colab": {
          "base_uri": "https://localhost:8080/"
        },
        "id": "7tSwfI7DmQKe",
        "outputId": "2049b592-9f77-47e9-db21-15f0dc536e8a"
      },
      "execution_count": null,
      "outputs": [
        {
          "output_type": "execute_result",
          "data": {
            "text/plain": [
              "array([[4.50232125],\n",
              "       [3.00574125]])"
            ]
          },
          "metadata": {},
          "execution_count": 44
        }
      ]
    },
    {
      "cell_type": "markdown",
      "source": [
        "* 유사역행렬 자체는 **특잇값 분해(SVD)**라 부르는 표준 행렬 분해 기법을 사용해 계산됨\n",
        "\n",
        "1. 훈련 세트 행렬 X를 3개의 행렬 곱셈 $U\\sum\\ V^{T}$\n",
        "\n",
        "2. 유사역행렬은 $X^+ = V\\sum^+U^T$로 계산됨\n",
        "3. $\\sum^+$를 계산하기 위해 알고리즘이 먼저$\\sum$을 구하고 그 다음 어떤 낮은 임곗값보다 작은 모든 수를 0으로 바꿈\n",
        "4. 그 다음 0이 아닌 모든 값을 역수로 치환함\n",
        "5. 만들어진 행렬을 전치\n"
      ],
      "metadata": {
        "id": "HJ7crMuzm26c"
      }
    },
    {
      "cell_type": "markdown",
      "source": [
        "###4.1.2 계산 복잡도\n",
        "\n",
        ": 역행렬을 계산하는 계산복잡도는 일반적으로 $O(n^2.4)$ 에서 $O(n^3)$사이"
      ],
      "metadata": {
        "id": "HEqkGi3UoGE_"
      }
    },
    {
      "cell_type": "markdown",
      "source": [
        "---\n",
        "## 4.2 경사 하강법\n",
        "\n",
        "1. 경사하강법 (GD)의 기본아이디어는 비용함수를 최소화하기 위해 반복해서 파라미터를 조정해나가는 것\n",
        "\n",
        "2. 중요한 파라미터는 **학습률** : 학습률이 너무 작으면 알고리즘이 수렴하기 위해 반복을 많이 진행하야 하므로 시간이 오래 걸림"
      ],
      "metadata": {
        "id": "zaL_U3n3oeUL"
      }
    },
    {
      "cell_type": "markdown",
      "source": [
        "### 4.2.1 배치 경사 하강법\n",
        "\n",
        "1. `편도함수` : 각 모델 파라미터 $\\theta_j$에 대해 비용 함수의 그레이디언트를 계산하는 것"
      ],
      "metadata": {
        "id": "r712Rfhvo8kb"
      }
    },
    {
      "cell_type": "code",
      "source": [
        "eta = 0.1 #학습률\n",
        "n_iterations = 1000\n",
        "m = 100\n",
        "import numpy as np\n",
        "\n",
        "theta = np.random.randn(2,1)\n",
        "\n",
        "for iteration in range(n_iterations) :\n",
        "  gradients = 2/m * X_b.T.dot(X_b.dot(theta)-y)\n",
        "  theta = theta - eta * gradients"
      ],
      "metadata": {
        "id": "0M4_9OHnoFCx"
      },
      "execution_count": null,
      "outputs": []
    },
    {
      "cell_type": "code",
      "source": [
        "theta"
      ],
      "metadata": {
        "colab": {
          "base_uri": "https://localhost:8080/"
        },
        "id": "QKsCunqkDgrk",
        "outputId": "93bde5a4-bc2e-4d11-de3b-d194ed5ceb37"
      },
      "execution_count": null,
      "outputs": [
        {
          "output_type": "execute_result",
          "data": {
            "text/plain": [
              "array([[4.50232125],\n",
              "       [3.00574125]])"
            ]
          },
          "metadata": {},
          "execution_count": 46
        }
      ]
    },
    {
      "cell_type": "markdown",
      "source": [
        "### 4.2.2 확률적 경사 하강법\n",
        "\n",
        "1. `확률적 경사 하강법` : 매 스텝에서 한 개의 샘플을 무작위로 선택하고 그 하나의 샘플에 대한 그레이디언트를 계산\n",
        "\n",
        "  * 매 반복에서 다뤄야 할 데이터가 매우 적기 떄문에 한 번에 하나의 샘플을 처리하면 알고리즘이 **훨씬 빠름** -> `배치 경사 하강법`의 문제 개선\n",
        "  * **확률적**이기 때문에 배치 경사 하강법보다 **훨씬 불안정**\n",
        "  * 무작위성은 지역 최솟값에서 탈출시켜줘서 좋지만 알고리즘을 전역 최솟값에 다다르지 못하게 한다는 점에서는 좋지 않음 -> `학습률을 점차 작게 줄여서 알고리즘이 전역 최솟값에 도달하게 함`"
      ],
      "metadata": {
        "id": "yt7EGVa-D1xj"
      }
    },
    {
      "cell_type": "code",
      "source": [
        "n_epochs = 50\n",
        "t0,t1 = 5,50 #학습 스케줄 하이퍼파라미터\n",
        "m = 100\n",
        "\n",
        "def learning_schedule(t) :\n",
        "  return t0 / (t+t1)\n",
        "\n",
        "theta = np.random.randn(2,1)\n",
        "\n",
        "for epoch in range(n_epochs) :\n",
        "  for i in range(m) :\n",
        "    random_index = np.random.randint(m)\n",
        "    xi = X_b[random_index : random_index +1]\n",
        "    yi = y[random_index:random_index + 1]\n",
        "    gradients = 2*xi.T.dot(xi.dot(theta)-yi)\n",
        "    eta = learning_schedule(epoch*m + i)\n",
        "    theta = theta - eta * gradients"
      ],
      "metadata": {
        "id": "6KoEerIrEcs7"
      },
      "execution_count": null,
      "outputs": []
    },
    {
      "cell_type": "code",
      "source": [
        "theta"
      ],
      "metadata": {
        "colab": {
          "base_uri": "https://localhost:8080/"
        },
        "id": "7EI1mbvxE8Dc",
        "outputId": "b36bf966-71eb-4b9b-e2a2-f26bb40f11a1"
      },
      "execution_count": null,
      "outputs": [
        {
          "output_type": "execute_result",
          "data": {
            "text/plain": [
              "array([[4.50266823],\n",
              "       [3.01701505]])"
            ]
          },
          "metadata": {},
          "execution_count": 48
        }
      ]
    },
    {
      "cell_type": "markdown",
      "source": [
        "* 사이킷런에서 SGD 방식으로 선형 회귀를 사용하려면 기본값으로 제곱오차 비용함수를 최적화하는 `SGDRegressor`클래스를 사용"
      ],
      "metadata": {
        "id": "J8A-qu1IFDx4"
      }
    },
    {
      "cell_type": "code",
      "source": [
        "from sklearn.linear_model import SGDRegressor\n",
        "sgd_reg = SGDRegressor(max_iter = 1000,tol = 1e-3, penalty = None, eta0 = 0.1)\n",
        "sgd_reg.fit(X,y.ravel())"
      ],
      "metadata": {
        "colab": {
          "base_uri": "https://localhost:8080/"
        },
        "id": "4tCijY0qFK22",
        "outputId": "e7a04af7-dc66-47ff-cca8-21b6b5ad64bb"
      },
      "execution_count": null,
      "outputs": [
        {
          "output_type": "execute_result",
          "data": {
            "text/plain": [
              "SGDRegressor(eta0=0.1, penalty=None)"
            ]
          },
          "metadata": {},
          "execution_count": 49
        }
      ]
    },
    {
      "cell_type": "code",
      "source": [
        "sgd_reg.intercept_, sgd_reg.coef_"
      ],
      "metadata": {
        "colab": {
          "base_uri": "https://localhost:8080/"
        },
        "id": "GgntTRT0FDS0",
        "outputId": "202ee475-89c6-4469-d0a5-2ddc505092d4"
      },
      "execution_count": null,
      "outputs": [
        {
          "output_type": "execute_result",
          "data": {
            "text/plain": [
              "(array([4.49443741]), array([3.03125998]))"
            ]
          },
          "metadata": {},
          "execution_count": 50
        }
      ]
    },
    {
      "cell_type": "markdown",
      "source": [
        "### 4.2.3 미니배치 경사 하강법\n",
        "\n",
        "1. `미니배치 경사 하강법` : 각 스텝에서 전체 훈련 세트나 하나의 샘플을 기반으로 그레이디언트를 계산하는 것이 아니라 **미니배치**라 부르는 임의의 작은 샘플 세트에 대해 그레이디언트를 계산\n",
        "\n",
        "* 선형회귀를 사용한 알고리즘 비교\n",
        "\n",
        "|알고리즘|m이 클 때|n이 클 때|하이퍼 파라미터 수|사이킷런|\n",
        "|---|---|---|---|---|\n",
        "|정규방정식|빠름|느림|0|N/A|\n",
        "|SVD|빠름|느림|0|LinearRegression|\n",
        "|배치 경사 하강법|느림|빠름|2|SGDRegressor|\n",
        "|확률적 경사 하강법|빠름|빠름|>=2|SGDRegressor|\n",
        "|미니배치 경사 하강법|빠름|빠름|>=2|SGDRegressor|"
      ],
      "metadata": {
        "id": "IV3MJRwXFqrm"
      }
    },
    {
      "cell_type": "markdown",
      "source": [
        "---\n",
        "## 4.3 다항회귀\n",
        "\n",
        "1. `다항회귀` : 각 특서의 거듭제곱을 새로운 특성으로 추가하고, 이 확장된 특성을 포함한 데이터셋에 선현 모델을 훈련시키는 것"
      ],
      "metadata": {
        "id": "jm74gfT3GgQt"
      }
    },
    {
      "cell_type": "code",
      "source": [
        "m = 100\n",
        "X = 6*np.random.rand(m,1) -3\n",
        "y = 0.5 * X**2 + X + 2 + np.random.randn(m,1)"
      ],
      "metadata": {
        "id": "hxca0kXqGvue"
      },
      "execution_count": null,
      "outputs": []
    },
    {
      "cell_type": "markdown",
      "source": [
        "```\n",
        "PolynomialFeatures(degree = 2, include_bias = False)\n",
        "```\n",
        "* `include_bias = True` : 편향을 위한 특성인 1이 추가"
      ],
      "metadata": {
        "id": "r5VBW8JnIEXA"
      }
    },
    {
      "cell_type": "code",
      "source": [
        "from sklearn.preprocessing import PolynomialFeatures\n",
        "poly_features = PolynomialFeatures(degree = 2, include_bias = False)\n",
        "X_poly = poly_features.fit_transform(X)"
      ],
      "metadata": {
        "id": "L2UojjkCG56I"
      },
      "execution_count": null,
      "outputs": []
    },
    {
      "cell_type": "code",
      "source": [
        "X[0]"
      ],
      "metadata": {
        "colab": {
          "base_uri": "https://localhost:8080/"
        },
        "id": "fVHGcRQWHo4n",
        "outputId": "5520224a-a40d-4d01-9cd7-a98df4a1ed6a"
      },
      "execution_count": null,
      "outputs": [
        {
          "output_type": "execute_result",
          "data": {
            "text/plain": [
              "array([2.05006325])"
            ]
          },
          "metadata": {},
          "execution_count": 53
        }
      ]
    },
    {
      "cell_type": "code",
      "source": [
        "X_poly[0]"
      ],
      "metadata": {
        "colab": {
          "base_uri": "https://localhost:8080/"
        },
        "id": "5CcPebYcHuTS",
        "outputId": "f4fae0e0-1cca-45cf-a2f0-babd3280599f"
      },
      "execution_count": null,
      "outputs": [
        {
          "output_type": "execute_result",
          "data": {
            "text/plain": [
              "array([2.05006325, 4.20275934])"
            ]
          },
          "metadata": {},
          "execution_count": 54
        }
      ]
    },
    {
      "cell_type": "markdown",
      "source": [
        "* 확장된 훈련 데이터에 **LinearRegression** 적용"
      ],
      "metadata": {
        "id": "Ifc1hG9hHw7-"
      }
    },
    {
      "cell_type": "code",
      "source": [
        "lin_reg = LinearRegression()\n",
        "lin_reg.fit(X_poly,y)\n",
        "lin_reg.intercept_, lin_reg.coef_\n"
      ],
      "metadata": {
        "colab": {
          "base_uri": "https://localhost:8080/"
        },
        "id": "tKbUAaT3HwSm",
        "outputId": "d91292e3-3198-4d74-b907-8f60b2273d7d"
      },
      "execution_count": null,
      "outputs": [
        {
          "output_type": "execute_result",
          "data": {
            "text/plain": [
              "(array([2.0818295]), array([[0.95974454, 0.48904146]]))"
            ]
          },
          "metadata": {},
          "execution_count": 55
        }
      ]
    },
    {
      "cell_type": "markdown",
      "source": [
        "---\n",
        "## 4.4 학습 곡선\n",
        "\n"
      ],
      "metadata": {
        "id": "_1kOMYnnITbZ"
      }
    },
    {
      "cell_type": "code",
      "source": [
        "from sklearn.metrics import mean_squared_error\n",
        "from sklearn.model_selection import train_test_split\n",
        "\n",
        "def plot_learning_curves(model,X,y) :\n",
        "  X_train,X_val,y_train,y_val = train_test_split(X,y,test_size = 0.2)\n",
        "  train_errors,val_errors = [],[]\n",
        "  for m in range(1,len(X_train)) :\n",
        "    model.fit(X_train[:m],y_train[:m])\n",
        "    y_train_predict = model.predict(X_train[:m])\n",
        "    y_val_predict = model.predict(X_val)\n",
        "    train_errors.append(mean_squared_error(y_train[:m],y_train_predict))\n",
        "    val_errors.append(mean_squared_error(y_val,y_val_predict))\n",
        "  plt.plot(np.sqrt(train_errors),'r-+',linewidth = 2, label = '훈련 세트')\n",
        "  plt.plot(np.sqrt(val_errors),'b-',linewidth = 3, label = '검증 세트')\n"
      ],
      "metadata": {
        "id": "bvM5sqWNIt_s"
      },
      "execution_count": null,
      "outputs": []
    },
    {
      "cell_type": "markdown",
      "source": [
        "* **훈련데이터** (빨간선) : 훈련 세트에 샘플이 추가됨에 따라 곡선이 어느정도 평편해질 때까지 **오차가 계속 상승**\n",
        "\n",
        "* **검증데이터** : 모델이 적은 수의 훈련 샘플로 훈련될 때는 제대로 일반화될 수 없어서 검증 오차가 **초기에 매우 큼**. 모델에 훈련 샘플이 추가됨에 따라 검증 오차가 **천천히 감소**"
      ],
      "metadata": {
        "id": "mvr4GQStKyWt"
      }
    },
    {
      "cell_type": "code",
      "source": [
        "lin_reg = LinearRegression()\n",
        "plot_learning_curves(lin_reg,X,y)"
      ],
      "metadata": {
        "colab": {
          "base_uri": "https://localhost:8080/",
          "height": 265
        },
        "id": "-VCLWY56Jbne",
        "outputId": "fda99cfb-09d5-4c13-ec12-5c4d136290fd"
      },
      "execution_count": null,
      "outputs": [
        {
          "output_type": "display_data",
          "data": {
            "text/plain": [
              "<Figure size 432x288 with 1 Axes>"
            ],
            "image/png": "[encoded data removed]"
          },
          "metadata": {
            "needs_background": "light"
          }
        }
      ]
    },
    {
      "cell_type": "markdown",
      "source": [
        "* 같은 데이터에서 **10차 다항 회귀 모델의 학습 곡선**\n",
        "\n",
        "1. 두 곡선 사이에 공간이 있다 -> `훈련 데이터에서의 모델 성능이 검증 데이터에서보다 훨씬 낫다` -> **과대적합 모델의 특징**"
      ],
      "metadata": {
        "id": "oL5D4u9zLv4B"
      }
    },
    {
      "cell_type": "code",
      "source": [
        "from sklearn.pipeline import Pipeline\n",
        "\n",
        "polynomial_regression = Pipeline([\n",
        "    ('poly_features',PolynomialFeatures(degree = 10,include_bias = False)),\n",
        "    ('lin_reg',LinearRegression()),\n",
        "])\n",
        "\n",
        "plot_learning_curves(polynomial_regression,X,y)"
      ],
      "metadata": {
        "colab": {
          "base_uri": "https://localhost:8080/",
          "height": 265
        },
        "id": "CKv7XLJ1LybP",
        "outputId": "e84b9a8e-3ab8-45cb-cd91-e731d41a735a"
      },
      "execution_count": null,
      "outputs": [
        {
          "output_type": "display_data",
          "data": {
            "text/plain": [
              "<Figure size 432x288 with 1 Axes>"
            ],
            "image/png": "[encoded data removed]"
          },
          "metadata": {
            "needs_background": "light"
          }
        }
      ]
    },
    {
      "cell_type": "markdown",
      "source": [
        "---\n",
        "## 4.5 규제가 있는 선형 모델"
      ],
      "metadata": {
        "id": "plzxnj3XMgLk"
      }
    },
    {
      "cell_type": "markdown",
      "source": [
        "### 4.5.1 릿지 회귀\n",
        "\n",
        "1. `릿지 회귀` : 규제가 추가된 선형 회귀 버전\n",
        "  * 학습 알고리즘을 데이터에 맞추는 것 뿐만 아니라 모델의 가중치가 가능한 한 작게 유지되도록 노력\n",
        "  * 릿지 회귀의 비용 함수\n",
        "\n",
        "$$J(\\theta) = MSE(\\theta) + α{1 \\over 2}\\sum\\limits_{i = 1}^{n} \\theta_i ^2$$\n",
        "\n",
        "* 하이퍼 파라미터 $\\alpha$는 모델을 얼마나 많이 **규제**할지 조정\n",
        "\n"
      ],
      "metadata": {
        "id": "oyz8GO17MjmB"
      }
    },
    {
      "cell_type": "code",
      "source": [
        "from sklearn.linear_model import Ridge\n",
        "ridge_reg = Ridge(alpha = 1, solver = 'cholesky')\n",
        "ridge_reg.fit(X,y)\n",
        "ridge_reg.predict([[1.5]])"
      ],
      "metadata": {
        "colab": {
          "base_uri": "https://localhost:8080/"
        },
        "id": "xzMLq0v3Mi5y",
        "outputId": "f6ba6d4c-b265-4eba-ea4a-f764ce168ae6"
      },
      "execution_count": null,
      "outputs": [
        {
          "output_type": "execute_result",
          "data": {
            "text/plain": [
              "array([[4.84161674]])"
            ]
          },
          "metadata": {},
          "execution_count": 59
        }
      ]
    },
    {
      "cell_type": "markdown",
      "source": [
        "* 확률적 경사 하강법 사용"
      ],
      "metadata": {
        "id": "8eYMf7oHNvN0"
      }
    },
    {
      "cell_type": "code",
      "source": [
        "sgd_reg = SGDRegressor(penalty = 'l2')\n",
        "sgd_reg.fit(X,y.ravel())\n",
        "sgd_reg.predict([[1.5]])"
      ],
      "metadata": {
        "colab": {
          "base_uri": "https://localhost:8080/"
        },
        "id": "VvGfeltzNwkS",
        "outputId": "38f94630-c0e4-4c49-cf03-7522b2d297be"
      },
      "execution_count": null,
      "outputs": [
        {
          "output_type": "execute_result",
          "data": {
            "text/plain": [
              "array([4.83193179])"
            ]
          },
          "metadata": {},
          "execution_count": 60
        }
      ]
    },
    {
      "cell_type": "markdown",
      "source": [
        "### 4.5.2 라쏘 회귀\n",
        "\n",
        "1. `라쏘 회귀` : 릿지 회귀처럼 비용함수에 규제항을 더하지만 $l_2$ 노름의 제곱을 2로 나눈 것 대신 가중치 벡터의 $l_1$노름 사용\n",
        "  * 덜 중요한 가중치 **제거**하려는 특성\n",
        "  * 자동으로 특성 선택을 하고 **희소 모델**을 만듬"
      ],
      "metadata": {
        "id": "Y1Y8uBYqN3ZX"
      }
    },
    {
      "cell_type": "code",
      "source": [
        "from sklearn.linear_model import Lasso\n",
        "lasso_reg = Lasso(alpha = 0.1)\n",
        "lasso_reg.fit(X,y)\n",
        "lasso_reg.predict([[1.5]])"
      ],
      "metadata": {
        "colab": {
          "base_uri": "https://localhost:8080/"
        },
        "id": "bHG3cohlOWfx",
        "outputId": "2f822c76-0e39-434c-f09f-0407fc5147ad"
      },
      "execution_count": null,
      "outputs": [
        {
          "output_type": "execute_result",
          "data": {
            "text/plain": [
              "array([4.79509672])"
            ]
          },
          "metadata": {},
          "execution_count": 61
        }
      ]
    },
    {
      "cell_type": "markdown",
      "source": [
        "### 4.5.3 엘라스틱넷\n",
        "\n",
        "1. `엘라스틱넷` : 릿지 회귀와 라쏘 회귀를 절충한 모델\n",
        "  * 규제항은 릿지와 회귀의 규제항을 단순히 더해서 사용\n",
        "  * 혼합정도는 혼합 비율 r을 사용해 조절"
      ],
      "metadata": {
        "id": "L155loYvOhGp"
      }
    },
    {
      "cell_type": "code",
      "source": [
        "from sklearn.linear_model import ElasticNet\n",
        "elastic_net = ElasticNet(alpha = 0.1,l1_ratio = 0.5)\n",
        "elastic_net.fit(X,y)\n",
        "elastic_net.predict([[1.5]])"
      ],
      "metadata": {
        "colab": {
          "base_uri": "https://localhost:8080/"
        },
        "id": "KtcAws68O77S",
        "outputId": "8a09f462-5772-494a-bf5e-98efa2b6f590"
      },
      "execution_count": null,
      "outputs": [
        {
          "output_type": "execute_result",
          "data": {
            "text/plain": [
              "array([4.79952898])"
            ]
          },
          "metadata": {},
          "execution_count": 62
        }
      ]
    },
    {
      "cell_type": "markdown",
      "source": [
        "### 4.5.4 조기 종료\n",
        "\n",
        ": 검증 에러가 최솟값에 도달하면 바로 훈련을 **중지**시키는 것"
      ],
      "metadata": {
        "id": "Lr1T6eXcPJJ9"
      }
    },
    {
      "cell_type": "code",
      "source": [
        "from sklearn.base import clone\n",
        "from sklearn.preprocessing import StandardScaler\n",
        "\n",
        "poly_scaler = Pipeline([\n",
        "    ('poly_features', PolynomialFeatures(degree = 90, include_bias = False)),\n",
        "    ('std_scaler', StandardScaler())\n",
        "\n",
        "])\n",
        "\n",
        "X_train_poly_scaled = poly_scaler.fit_transform(X_train)\n",
        "X_val_poly_scaled = poly_scaler.transform(X_val)\n",
        "\n",
        "sgd_reg = SGDRegressor(max_iter = 1, tol = -np.infty, warm_start = True, penalty = None, learning_rate = 'constant',eta0 = 0.0005)\n",
        "minimum_val_error = float('inf')\n",
        "best_epoch = None\n",
        "best_model = None\n",
        "for epoch in range(1000) :\n",
        "  sgd_reg.fit(X_train_poly_scaled,y_train)\n",
        "  y_val_predict = sgd_reg.predict(X_val_poly_scaled)\n",
        "  val_error = mean_squared_error(y_val, y_val_predict)\n",
        "  if val_error < minimum_val_error :\n",
        "    minimum_val_error = val_error\n",
        "    best_epoch = epoch\n",
        "    best_model = clone(sgd_reg)"
      ],
      "metadata": {
        "id": "vyGD53WPRCsn"
      },
      "execution_count": null,
      "outputs": []
    },
    {
      "cell_type": "markdown",
      "source": [
        "---\n",
        "## 4.6 로지스틱 회귀\n",
        "\n",
        "* `로지스틱 회귀` : 샘플이 특정 클래스에 속할 확률을 추정하는 데 널리 사용"
      ],
      "metadata": {
        "id": "k-s8BchiRD80"
      }
    },
    {
      "cell_type": "markdown",
      "source": [
        "### 4.6.1 확률 추정\n",
        "\n",
        "1. 선형 회귀 모델과 가이 로지스틱 회귀 모델은 입력 특성의 **가중치 합** 계산\n",
        "2. 대신 선형 회귀처럼 결과를 바로 출력하지 않고 결괏값의 **로지스틱** 출력\n",
        "3. 로지스틱은 0과 1 사이의 값을 출력하는 **시그모이드 함수**\n",
        "\n",
        "* `시그모이드 함수`\n",
        "\n",
        "$$\\sigma(t) = {1 \\over 1+ e^{-t}}$$"
      ],
      "metadata": {
        "id": "inOITNnsRNGj"
      }
    },
    {
      "cell_type": "markdown",
      "source": [
        "### 4.6.2 훈련과 비용함수\n",
        "\n",
        "1. 훈련의 목적 : 양성 샘플(y=1)에 대해서는 **높은 확률 추정**하고 음성 샘플(y=0)에 대해서는 **낮은 확률 추정**하는 모델의 파라미터 벡터를 찾는 것"
      ],
      "metadata": {
        "id": "rflK8eQFR4Ay"
      }
    },
    {
      "cell_type": "markdown",
      "source": [
        "### 4.6.3 결정 경계"
      ],
      "metadata": {
        "id": "v11DtxMTSILi"
      }
    },
    {
      "cell_type": "code",
      "source": [
        "from sklearn import datasets\n",
        "iris = datasets.load_iris()\n",
        "list(iris.keys())"
      ],
      "metadata": {
        "colab": {
          "base_uri": "https://localhost:8080/"
        },
        "id": "4zjybC1xSKYZ",
        "outputId": "ac59d7aa-8f70-4b3d-aaab-c6c6583493cf"
      },
      "execution_count": null,
      "outputs": [
        {
          "output_type": "execute_result",
          "data": {
            "text/plain": [
              "['data',\n",
              " 'target',\n",
              " 'frame',\n",
              " 'target_names',\n",
              " 'DESCR',\n",
              " 'feature_names',\n",
              " 'filename',\n",
              " 'data_module']"
            ]
          },
          "metadata": {},
          "execution_count": 64
        }
      ]
    },
    {
      "cell_type": "code",
      "source": [
        "X = iris['data'][:,3:]\n",
        "y = (iris['target'] == 2).astype(np.int)"
      ],
      "metadata": {
        "colab": {
          "base_uri": "https://localhost:8080/"
        },
        "id": "gWajP9xmSPWk",
        "outputId": "100840fd-5df6-435f-fa87-7edaad034a76"
      },
      "execution_count": null,
      "outputs": [
        {
          "output_type": "stream",
          "name": "stderr",
          "text": [
            "/usr/local/lib/python3.7/dist-packages/ipykernel_launcher.py:2: DeprecationWarning: `np.int` is a deprecated alias for the builtin `int`. To silence this warning, use `int` by itself. Doing this will not modify any behavior and is safe. When replacing `np.int`, you may wish to use e.g. `np.int64` or `np.int32` to specify the precision. If you wish to review your current use, check the release note link for additional information.\n",
            "Deprecated in NumPy 1.20; for more details and guidance: https://numpy.org/devdocs/release/1.20.0-notes.html#deprecations\n",
            "  \n"
          ]
        }
      ]
    },
    {
      "cell_type": "code",
      "source": [
        "#로지스틱 회귀 모델 훈련\n",
        "\n",
        "from sklearn.linear_model import LogisticRegression\n",
        "\n",
        "log_reg = LogisticRegression()\n",
        "log_reg.fit(X,y)"
      ],
      "metadata": {
        "colab": {
          "base_uri": "https://localhost:8080/"
        },
        "id": "Rpfthv5zSVKV",
        "outputId": "e213736d-778f-4d34-e20e-bc7e1e9fdd05"
      },
      "execution_count": null,
      "outputs": [
        {
          "output_type": "execute_result",
          "data": {
            "text/plain": [
              "LogisticRegression()"
            ]
          },
          "metadata": {},
          "execution_count": 66
        }
      ]
    },
    {
      "cell_type": "code",
      "source": [
        "X_new = np.linspace(0,3,1000).reshape(-1,1)\n",
        "y_proba = log_reg.predict_proba(X_new)\n",
        "plt.plot(X_new, y_proba[:,1],'g-',label = 'Iris virginica')\n",
        "plt.plot(X_new,y_proba[:,0],'b--',label = 'Not Iris virginica')"
      ],
      "metadata": {
        "colab": {
          "base_uri": "https://localhost:8080/",
          "height": 283
        },
        "id": "_poRV8YlTNhp",
        "outputId": "2022735e-55e9-4fe5-8ca7-e6cf853bf71a"
      },
      "execution_count": null,
      "outputs": [
        {
          "output_type": "execute_result",
          "data": {
            "text/plain": [
              "[<matplotlib.lines.Line2D at 0x7feb182cf250>]"
            ]
          },
          "metadata": {},
          "execution_count": 67
        },
        {
          "output_type": "display_data",
          "data": {
            "text/plain": [
              "<Figure size 432x288 with 1 Axes>"
            ],
            "image/png": "[encoded data removed]"
          },
          "metadata": {
            "needs_background": "light"
          }
        }
      ]
    },
    {
      "cell_type": "code",
      "source": [
        "log_reg.predict([[1.7],[1.5]])"
      ],
      "metadata": {
        "colab": {
          "base_uri": "https://localhost:8080/"
        },
        "id": "lSjR9lCOT1Kt",
        "outputId": "ef34ec97-e7df-41dc-9744-035311cd3338"
      },
      "execution_count": null,
      "outputs": [
        {
          "output_type": "execute_result",
          "data": {
            "text/plain": [
              "array([1, 0])"
            ]
          },
          "metadata": {},
          "execution_count": 73
        }
      ]
    },
    {
      "cell_type": "markdown",
      "source": [
        "### 4.6.4 소프트맥스 회귀\n",
        "\n",
        "1. 샘플 x가 주어지면 먼저 소프트맥스 회귀 모델이 각 클래스 k에 대한 점수를 계산하고, 그 점수에 소프트맥스 함수를 적용하여 각 클래스의 확률을 추정\n",
        "\n",
        "2. 소프트 맥스 함수\n",
        "\n",
        "$$\\hat{p_k} = \\sigma(s(x))_k = {exp(s_k(x)) \\over \\sum\\limits_{j = 1}^{K}exp(s_j(x))}$$\n",
        "\n",
        "* $K$는 각 클래스 의 수\n",
        "* s(x)는 샘플x에 대한 각 클래스의 점수를 담은 벡터\n",
        "* $\\sigma(x(x))_k$는 샘플 x에 대한 각 클래스의 점수가 주어졌을 떄 이 샘플이 클래스 k에 속할 추정 확률\n",
        "\n",
        "\n",
        "3. 크로스 엔트로피 비용함수\n",
        "\n",
        "  * 크로스 엔트로피 비용 함수를 최소화하는 것은 타깃 클래스에 대해 낮은 확률을 예측하는 모델을 억제하므로 이 모델이 타깃 클래스에 대해서 높은 확률을 추정하도록 하는 데 좋음"
      ],
      "metadata": {
        "id": "pb50xUV0UcvU"
      }
    },
    {
      "cell_type": "markdown",
      "source": [
        "```\n",
        "LogisticRegression(multi_class = 'multinomial', solver = 'lbfgs')\n",
        "```\n",
        "\n",
        "* `multi_class = 'multinomial` : 소프트맥스 회귀 사용\n",
        "* `solver = 'lbfgs` : 소프트 맥스회귀를 지원하는 알고리즘 지정"
      ],
      "metadata": {
        "id": "hxLT07A9V_Du"
      }
    },
    {
      "cell_type": "code",
      "source": [
        "X = iris['data'][:,(2,3)]\n",
        "y = iris['target']\n",
        "\n",
        "softmax_reg = LogisticRegression(multi_class = 'multinomial',solver = 'lbfgs',C = 10)\n",
        "softmax_reg.fit(X,y)"
      ],
      "metadata": {
        "colab": {
          "base_uri": "https://localhost:8080/"
        },
        "id": "8Eaw0H9rWRGs",
        "outputId": "03dd6de6-3f86-4df0-8193-03eeadabfe41"
      },
      "execution_count": null,
      "outputs": [
        {
          "output_type": "execute_result",
          "data": {
            "text/plain": [
              "LogisticRegression(C=10, multi_class='multinomial')"
            ]
          },
          "metadata": {},
          "execution_count": 74
        }
      ]
    },
    {
      "cell_type": "code",
      "source": [
        "softmax_reg.predict([[5,2]])\n",
        "softmax_reg.predict_proba([[5,2]])"
      ],
      "metadata": {
        "colab": {
          "base_uri": "https://localhost:8080/"
        },
        "id": "l8Is_RLTU-F7",
        "outputId": "160bc311-e694-40bf-f5ce-7eb02d14dc90"
      },
      "execution_count": null,
      "outputs": [
        {
          "output_type": "execute_result",
          "data": {
            "text/plain": [
              "array([[6.38014896e-07, 5.74929995e-02, 9.42506362e-01]])"
            ]
          },
          "metadata": {},
          "execution_count": 75
        }
      ]
    }
  ]
}