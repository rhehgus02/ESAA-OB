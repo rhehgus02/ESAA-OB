{
  "nbformat": 4,
  "nbformat_minor": 0,
  "metadata": {
    "colab": {
      "provenance": [],
      "authorship_tag": "ABX9TyOgexX2/HRbi2TSND9HJpwn",
      "include_colab_link": true
    },
    "kernelspec": {
      "name": "python3",
      "display_name": "Python 3"
    },
    "language_info": {
      "name": "python"
    }
  },
  "cells": [
    {
      "cell_type": "markdown",
      "metadata": {
        "id": "view-in-github",
        "colab_type": "text"
      },
      "source": [
        "<a href=\"https://colab.research.google.com/github/rhehgus02/ESAA_OB/blob/main/%ED%8C%8C%EC%9D%B4%EC%8D%AC_%EB%A8%B8%EC%8B%A0%EB%9F%AC%EB%8B%9D_%EC%99%84%EB%B2%BD_%EA%B0%80%EC%9D%B4%EB%93%9C(2)_%ED%85%8D%EC%8A%A4%ED%8A%B8_%EB%B6%84%EC%84%9D(2).ipynb\" target=\"_parent\"><img src=\"https://colab.research.google.com/assets/colab-badge.svg\" alt=\"Open In Colab\"/></a>"
      ]
    },
    {
      "cell_type": "markdown",
      "source": [
        "\n",
        "## **4. 텍스트 분류 실습 - 20 뉴스그룹 분류**\n",
        "\n",
        "* 사이킷런 내부의 예제 데이터인 20 뉴스그룹 데이터 세트를 이용해 텍스트 분류 적용하기\n",
        "\n",
        "    * 사이킷런 `fetch_20newsgroups()`: 뉴스그룹의 분류를 수행해 볼 수 있는 예제 데이터를 제공\n",
        "\n",
        "* 텍스트 분류: 특정 문서의 분류를 학습 데이터를 통해 학습해 모델을 생성한 뒤 이 학습 모델을 이용해 다른 문서의 분류를 예측하는 것\n",
        "\n",
        "* 텍스트를 피처 벡터화로 변환하면 일반적으로 희소 행렬 형태가 됨\n",
        "\n",
        "    -> 이러한 희소 행렬에 분류를 효과적으로 잘 처리할 수 있는 알고리즘은 로지스틱 회귀, 선형 서포트 벡터 머신, 나이브 베이지 등\n",
        "\n",
        "* 텍스트를 기반으로 분류를 수행할 때는 먼저 텍스트를 정규화한 뒤 피처 벡터화를 적용함\n",
        "\n",
        "    -> 이후 적합한 머신러닝 알고리즘을 적용해 분류를 학습/예측/평가"
      ],
      "metadata": {
        "id": "_TsjRTL0fEp8"
      }
    },
    {
      "cell_type": "markdown",
      "source": [
        "---\n",
        "\n",
        "### **4-1. 텍스트 정규화**"
      ],
      "metadata": {
        "id": "i3oFUqkCgjUh"
      }
    },
    {
      "cell_type": "code",
      "source": [
        "import warnings\n",
        "warnings.filterwarnings('ignore')"
      ],
      "metadata": {
        "id": "DqLeH60Sg2GJ"
      },
      "execution_count": 2,
      "outputs": []
    },
    {
      "cell_type": "code",
      "execution_count": 1,
      "metadata": {
        "id": "9qDThOZoqTf-"
      },
      "outputs": [],
      "source": [
        "from sklearn.datasets import fetch_20newsgroups\n",
        "\n",
        "news_data = fetch_20newsgroups(subset=\"all\", random_state=156)"
      ]
    },
    {
      "cell_type": "markdown",
      "source": [
        ">> `fetch_20newsgroups()`는 파이썬 딕셔너리와 유사한 Bunch 객체를 반환함"
      ],
      "metadata": {
        "id": "JvPm5OVXg6oV"
      }
    },
    {
      "cell_type": "code",
      "source": [
        "# 어떤 key 값을 가지고 있는지 확인\n",
        "print(news_data.keys())"
      ],
      "metadata": {
        "colab": {
          "base_uri": "https://localhost:8080/"
        },
        "id": "kAz3kyUmf88M",
        "outputId": "d7b6c6a6-8087-4ff9-a336-ec303ce576c8"
      },
      "execution_count": 3,
      "outputs": [
        {
          "output_type": "stream",
          "name": "stdout",
          "text": [
            "dict_keys(['data', 'filenames', 'target_names', 'target', 'DESCR'])\n"
          ]
        }
      ]
    },
    {
      "cell_type": "code",
      "source": [
        "# target 클래스가 어떻게 구성돼 있는지 확인\n",
        "import pandas as pd\n",
        "\n",
        "print(\"target 클래스의 값과 분포도 \\n\", pd.Series(news_data.target).value_counts().sort_index())\n",
        "print(\"target 클래스의 이름들 \\n\", news_data.target_names)"
      ],
      "metadata": {
        "colab": {
          "base_uri": "https://localhost:8080/"
        },
        "id": "8mr29MnZhIn_",
        "outputId": "055d9c50-9656-4810-cb4e-4add6551342d"
      },
      "execution_count": 4,
      "outputs": [
        {
          "output_type": "stream",
          "name": "stdout",
          "text": [
            "target 클래스의 값과 분포도 \n",
            " 0     799\n",
            "1     973\n",
            "2     985\n",
            "3     982\n",
            "4     963\n",
            "5     988\n",
            "6     975\n",
            "7     990\n",
            "8     996\n",
            "9     994\n",
            "10    999\n",
            "11    991\n",
            "12    984\n",
            "13    990\n",
            "14    987\n",
            "15    997\n",
            "16    910\n",
            "17    940\n",
            "18    775\n",
            "19    628\n",
            "dtype: int64\n",
            "target 클래스의 이름들 \n",
            " ['alt.atheism', 'comp.graphics', 'comp.os.ms-windows.misc', 'comp.sys.ibm.pc.hardware', 'comp.sys.mac.hardware', 'comp.windows.x', 'misc.forsale', 'rec.autos', 'rec.motorcycles', 'rec.sport.baseball', 'rec.sport.hockey', 'sci.crypt', 'sci.electronics', 'sci.med', 'sci.space', 'soc.religion.christian', 'talk.politics.guns', 'talk.politics.mideast', 'talk.politics.misc', 'talk.religion.misc']\n"
          ]
        }
      ]
    },
    {
      "cell_type": "markdown",
      "source": [
        ">> target 클래스의 값은 0부터 19까지 20개로 구성돼 있음"
      ],
      "metadata": {
        "id": "BhYQyWWXhZr-"
      }
    },
    {
      "cell_type": "code",
      "source": [
        "# 개별 텍스트 데이터가 어떻게 구성돼 있는지 확인\n",
        "print(news_data.data[0])"
      ],
      "metadata": {
        "colab": {
          "base_uri": "https://localhost:8080/"
        },
        "id": "hyna9nlehd71",
        "outputId": "1e55c939-bd4e-494a-c3a1-8b575aefaad3"
      },
      "execution_count": 5,
      "outputs": [
        {
          "output_type": "stream",
          "name": "stdout",
          "text": [
            "From: egreen@east.sun.com (Ed Green - Pixel Cruncher)\n",
            "Subject: Re: Observation re: helmets\n",
            "Organization: Sun Microsystems, RTP, NC\n",
            "Lines: 21\n",
            "Distribution: world\n",
            "Reply-To: egreen@east.sun.com\n",
            "NNTP-Posting-Host: laser.east.sun.com\n",
            "\n",
            "In article 211353@mavenry.altcit.eskimo.com, maven@mavenry.altcit.eskimo.com (Norman Hamer) writes:\n",
            "> \n",
            "> The question for the day is re: passenger helmets, if you don't know for \n",
            ">certain who's gonna ride with you (like say you meet them at a .... church \n",
            ">meeting, yeah, that's the ticket)... What are some guidelines? Should I just \n",
            ">pick up another shoei in my size to have a backup helmet (XL), or should I \n",
            ">maybe get an inexpensive one of a smaller size to accomodate my likely \n",
            ">passenger? \n",
            "\n",
            "If your primary concern is protecting the passenger in the event of a\n",
            "crash, have him or her fitted for a helmet that is their size.  If your\n",
            "primary concern is complying with stupid helmet laws, carry a real big\n",
            "spare (you can put a big or small head in a big helmet, but not in a\n",
            "small one).\n",
            "\n",
            "---\n",
            "Ed Green, former Ninjaite |I was drinking last night with a biker,\n",
            "  Ed.Green@East.Sun.COM   |and I showed him a picture of you.  I said,\n",
            "DoD #0111  (919)460-8302  |\"Go on, get to know her, you'll like her!\"\n",
            " (The Grateful Dead) -->  |It seemed like the least I could do...\n",
            "\n",
            "\n"
          ]
        }
      ]
    },
    {
      "cell_type": "markdown",
      "source": [
        ">> 뉴스그룹 기사의 내용뿐만 아니라 뉴스그룹 제목, 작성자, 소속, 이메일 등의 다양한 정보를 갖고 있음\n",
        "\n",
        ">> 제목 외의 다른 정보들은 뉴스그룹 분류의 target 클래스 값과 유사한 데이터를 가지고 있는 경우가 많기 때문에 제거해야 함\n"
      ],
      "metadata": {
        "id": "myViprGehn0T"
      }
    },
    {
      "cell_type": "markdown",
      "source": [
        "* `remove` 파라미터를 이용하면 뉴스그룹 기사의 헤더(header), 푸터(footer) 등을 제거할 수 있음\n",
        "\n",
        "* 또한 `subset` 파라미터를 이용해 학습 데이터 세트와 테스트 데이터 세트를 분리해 내려받을 수 있음"
      ],
      "metadata": {
        "id": "f9Vlg2T6iO3B"
      }
    },
    {
      "cell_type": "code",
      "source": [
        "from sklearn.datasets import fetch_20newsgroups\n",
        "\n",
        "# subset=\"train\"으로 학습용 데이터만 추출, remove = (\"headers\", \"footers\", \"quotes\")f로 내용만 추출\n",
        "train_news = fetch_20newsgroups(subset = \"train\", remove = (\"headers\", \"footers\", \"quoters\"),\n",
        "                                random_state = 156)\n",
        "X_train = train_news.data\n",
        "y_train = train_news.target\n",
        "\n",
        "# subset=\"test\"으로 테스트 데이터만 추출, remove = (\"headers\", \"footers\", \"quotes\")로 내용만 추출\n",
        "test_news = fetch_20newsgroups(subset = \"test\", remove = (\"headers\", \"footers\", \"quotes\"),\n",
        "                               random_state = 156)\n",
        "X_test = test_news.data\n",
        "y_test = test_news.target\n",
        "print(\"학습 데이터 크기 {0}, 테스트 데이터 크기 {1}\".format(len(train_news.data), len(test_news.data)))"
      ],
      "metadata": {
        "colab": {
          "base_uri": "https://localhost:8080/"
        },
        "id": "K_xFlIxCiUER",
        "outputId": "af4ea1b2-0ec9-46de-8c0c-c88d233f4cd4"
      },
      "execution_count": 11,
      "outputs": [
        {
          "output_type": "stream",
          "name": "stdout",
          "text": [
            "학습 데이터 크기 11314, 테스트 데이터 크기 7532\n"
          ]
        }
      ]
    },
    {
      "cell_type": "markdown",
      "source": [
        "\n",
        "---\n",
        "\n",
        "### **4-2. 피처 벡터화 변환과 머신러닝 모델 학습/예측/평가**\n",
        "\n",
        "* `CountVectorizer`를 이용해 train 데이터의 텍스트를 피처 벡터화\n",
        "\n",
        "* test 데이터에 `CountVectorizer`를 적용할 때는 반드시 train 데이터를 이용해 `fit()`이 수행된 `CountVectorizer` 객체를 이용해 test 데이터를 변환해야 함\n",
        "\n",
        "    -> 그래야만 학습 시 설정된 `CountVectorizer`의 피처 개수와 test 데이터를 `CountVectorizer`로 변환할 피처 개수가 같아지기 때문\n",
        "\n",
        "    -> test 데이터의 피처 벡터화는 train 데이터에 사용된 `CountVectorizer` 객체 변수인 `cnt_vect.transform()`을 이용해 변환"
      ],
      "metadata": {
        "id": "wqs4lhJvioaK"
      }
    },
    {
      "cell_type": "code",
      "source": [
        "from sklearn.feature_extraction.text import CountVectorizer\n",
        "\n",
        "# CountVectorizer으로 피처 벡터화 변환 수행.\n",
        "cnt_vect = CountVectorizer()\n",
        "cnt_vect.fit(X_train)\n",
        "X_train_cnt_vect = cnt_vect.transform(X_train)\n",
        "\n",
        "# 학습 데이터로 fit()된 CountVectorizer를 이용해 테스트 데이터를 피처 벡터화 변환 수행.\n",
        "X_test_cnt_vect = cnt_vect.transform(X_test)\n",
        "\n",
        "print(\"학습 데이터 텍스트의 CountVectorizer Shape: \", X_train_cnt_vect.shape)"
      ],
      "metadata": {
        "colab": {
          "base_uri": "https://localhost:8080/"
        },
        "id": "7qRCqPPQiuhN",
        "outputId": "913daf29-18f1-4812-c95b-f341d953d887"
      },
      "execution_count": 12,
      "outputs": [
        {
          "output_type": "stream",
          "name": "stdout",
          "text": [
            "학습 데이터 텍스트의 CountVectorizer Shape:  (11314, 114751)\n"
          ]
        }
      ]
    },
    {
      "cell_type": "markdown",
      "source": [
        ">> 11314개의 문서에서 피처, 즉 단어가 114751개 만들어짐"
      ],
      "metadata": {
        "id": "AgoD_i3KkYuB"
      }
    },
    {
      "cell_type": "code",
      "source": [
        "# 피처 벡터화된 데이터에 로지스틱 회귀를 적용해 뉴스그룹에 대한 분류 예측\n",
        "from sklearn.linear_model import LogisticRegression\n",
        "from sklearn.metrics import accuracy_score\n",
        "\n",
        "# LogisticRegression을 이용해 학습/예측/평가 수행.\n",
        "lr_clf = LogisticRegression()\n",
        "lr_clf.fit(X_train_cnt_vect, y_train)\n",
        "pred = lr_clf.predict(X_test_cnt_vect)\n",
        "print(\"CountVectorized Logistic Regression의 예측 정확도는 {0:.3f}\".format(accuracy_score(y_test, pred)))"
      ],
      "metadata": {
        "colab": {
          "base_uri": "https://localhost:8080/"
        },
        "id": "LXZwgZOAkeuS",
        "outputId": "f297be03-85ad-4a47-b813-286ff8127f9c"
      },
      "execution_count": 16,
      "outputs": [
        {
          "output_type": "stream",
          "name": "stdout",
          "text": [
            "CountVectorized Logistic Regression의 예측 정확도는 0.573\n"
          ]
        }
      ]
    },
    {
      "cell_type": "markdown",
      "source": [
        ">> 정확도는 약 0.573\n"
      ],
      "metadata": {
        "id": "-gHEUidqlPmk"
      }
    },
    {
      "cell_type": "code",
      "source": [
        "# Count 기반에서 TF-IDF 기반으로 벡터화를 변경해 예측 모델을 수행\n",
        "from sklearn.feature_extraction.text import TfidfVectorizer\n",
        "\n",
        "# TF-IDF 벡터화를 적용해 학습 데이터 세트와 테스트 데이터 세트 변환.\n",
        "tfidf_vect = TfidfVectorizer()\n",
        "tfidf_vect.fit(X_train)\n",
        "X_train_tfidf_vect = tfidf_vect.transform(X_train)\n",
        "X_test_tfidf_vect = tfidf_vect.transform(X_test)\n",
        "\n",
        "# LogisticRegression을 이용해 학습/예측/평가 수행.\n",
        "lr_clf = LogisticRegression()\n",
        "lr_clf.fit(X_train_tfidf_vect, y_train)\n",
        "pred = lr_clf.predict(X_test_tfidf_vect)\n",
        "print(\"TF-IDF Logistic Regression의 예측 정확도는 {:.3f}\".format(accuracy_score(y_test, pred)))"
      ],
      "metadata": {
        "colab": {
          "base_uri": "https://localhost:8080/"
        },
        "id": "JB9LJPdWk5pm",
        "outputId": "70ff9b5c-4383-4ec2-a930-3c2233192588"
      },
      "execution_count": 17,
      "outputs": [
        {
          "output_type": "stream",
          "name": "stdout",
          "text": [
            "TF-IDF Logistic Regression의 예측 정확도는 0.663\n"
          ]
        }
      ]
    },
    {
      "cell_type": "markdown",
      "source": [
        ">> 정확도는 약 0.663\n",
        "\n",
        "\n",
        ">> TF-IDF가 단순 카운트 기반보다 훨씬 높은 예측 정확도를 제공"
      ],
      "metadata": {
        "id": "mdf-eYw0lKSZ"
      }
    },
    {
      "cell_type": "markdown",
      "source": [
        "* 텍스트 분석에서 머신러닝 모델의 성능을 향상시키는 중요한 2가지 방법\n",
        "\n",
        "    * 최적의 ML 알고리즘을 선택하는 것\n",
        "    \n",
        "    * 최상의 피처 전처리를 수행하는 것\n",
        "\n",
        "        -> 텍스트 정규화나 Count\\TF-IDF 기반 피처 벡터화를 어떻게 효과적으로 적용했는지가 텍스트 기반의 머신러닝 성능에 큰 영향을 미칠 수 있음"
      ],
      "metadata": {
        "id": "shU80jhKljx5"
      }
    },
    {
      "cell_type": "code",
      "source": [
        "# TF-IDF 벡터화에 다양한 파라미터 적용\n",
        "# stop words 필터링을 추가하고 ngram을 기본 (1, 1)에서 (1, 2)로 변경해 피처 벡터화 적용.\n",
        "tfidf_vect = TfidfVectorizer(stop_words=\"english\", ngram_range=(1, 2), max_df=300)\n",
        "tfidf_vect.fit(X_train)\n",
        "X_train_tfidf_vect = tfidf_vect.transform(X_train)\n",
        "X_test_tfidf_vect = tfidf_vect.transform(X_test)\n",
        "\n",
        "lr_clf = LogisticRegression()\n",
        "lr_clf.fit(X_train_tfidf_vect, y_train)\n",
        "pred = lr_clf.predict(X_test_tfidf_vect)\n",
        "print(\"TF-IDF Vectorized Logistic Regression의 예측 정확도는 {0:.3f}\".format(accuracy_score(y_test, pred)))"
      ],
      "metadata": {
        "colab": {
          "base_uri": "https://localhost:8080/"
        },
        "id": "D-A9V0bpldu6",
        "outputId": "7cdf22c8-5be6-4317-d04a-d2bd60c6feba"
      },
      "execution_count": 18,
      "outputs": [
        {
          "output_type": "stream",
          "name": "stdout",
          "text": [
            "TF-IDF Vectorized Logistic Regression의 예측 정확도는 0.683\n"
          ]
        }
      ]
    },
    {
      "cell_type": "markdown",
      "source": [
        ">> 정확도는 약 0.683"
      ],
      "metadata": {
        "id": "oVUE3ObWm8_e"
      }
    },
    {
      "cell_type": "code",
      "source": [
        "# GridSearchCV를 이용해 로지스틱 회귀의 하이퍼 파라미터 최적화\n",
        "from sklearn.model_selection import GridSearchCV\n",
        "\n",
        "# 최적 C 값 도출 튜닝 수행. CV는 3 폴드 세트로 설정.\n",
        "params = {\"C\": [0.01, 0.1, 1, 5, 10]}\n",
        "grid_cv_lr = GridSearchCV(lr_clf, param_grid=params, cv=3, scoring=\"accuracy\", verbose=1)\n",
        "grid_cv_lr.fit(X_train_tfidf_vect, y_train)\n",
        "print(\"Logistic Regression best C parameter: \", grid_cv_lr.best_params_)\n",
        "\n",
        "# 최적 C 값으로 학습된 grid_cv로 예측 및 정확도 평가.\n",
        "pred = grid_cv_lr.predict(X_test_tfidf_vect)\n",
        "print(\"TF-IDF Vectorized Logistic Regression의 예측 정확도는 {0:.3f}\".format(accuracy_score(y_test, pred)))"
      ],
      "metadata": {
        "id": "9VEpQl4vmqga"
      },
      "execution_count": null,
      "outputs": []
    },
    {
      "cell_type": "markdown",
      "source": [
        ">> 로지스틱 회귀의 C가 ~일 때 정확도는 약 ~로 가장 좋은 예측 성능을 보임"
      ],
      "metadata": {
        "id": "LINUYjEqn-1z"
      }
    },
    {
      "cell_type": "markdown",
      "source": [
        "\n",
        "---\n",
        "\n",
        "### **4-3. 사이킷런 파이프라인(Pipeline) 사용 및 GridSearchCV와의 결합**\n",
        "\n",
        "* 사이킷런의 Pipeline 클래스를 이용하면 피처 벡터화와 ML 알고리즘 학습/예측을 위한 코드 작성을 한 번에 진행할 수 있음\n",
        "\n",
        "    -> 데이터 전처리와 머신러닝 학습 과정을 통일된 API 기반에서 처리할 수 있어 더 직관적인 ML 모델 코드를 생성할 수 있음\n",
        "    \n",
        "    -> 대용량 데이터의 피처 벡터화 결과를 별도 데이터로 저장하지 않고 스트림 기반에서 바로 머신러닝 알고리즘의 데이터로 입력할 수 있기 때문에 수행 시간을 절약할 수 있음\n",
        "\n",
        "* 사이킷런 파이프라인은 텍스트 기반의 피처 벡터화뿐만 아니라 모든 데이터 전처리 작업과 Estimator를 결합할 수 있음"
      ],
      "metadata": {
        "id": "pml1aHx7nCK9"
      }
    },
    {
      "cell_type": "code",
      "source": [
        "# Pipeline 객체 선언\n",
        "from sklearn.pipeline import Pipeline\n",
        "\n",
        "pipeline = Pipeline([(\"tfidf_vect\", TfidfVectorizer(stop_words = \"english\")),\n",
        "                     (\"lr_clf\", LogisticRegression(random_state = 156))])"
      ],
      "metadata": {
        "id": "1ueNPpAYnn-k"
      },
      "execution_count": 19,
      "outputs": []
    },
    {
      "cell_type": "markdown",
      "source": [
        ">> `TfidVectorizer` 객체를 tfidf_vect라는 객체 변수 명으로, `LogisticRegression` 객체를 lr_clf라는 객체 변수 명으로 생성한 뒤, 이 두 개의 객체를 파이프라인으로 연결하는 Pipeline 객체 pipeline을 생성한다는 의미"
      ],
      "metadata": {
        "id": "iw8glSLCoQvc"
      }
    },
    {
      "cell_type": "code",
      "source": [
        "from sklearn.pipeline import Pipeline\n",
        "\n",
        "# TfidfVectorizer 객체를 tfidf_vect로, LogisticRegression 객체를 lr_clf로 생성하는 Pipeline 생성\n",
        "pipeline = Pipeline([\n",
        "    (\"tfidf_vect\", TfidfVectorizer(stop_words=\"english\", ngram_range=(1, 2), max_df=300)),\n",
        "    (\"lr_clf\", LogisticRegression(C = 10))\n",
        "])\n",
        "\n",
        "# 별도의 TfidVectorizer 객체의 fit(), transform()과 LogisticRegression의 fit(), predict()가 필요 없음.\n",
        "# pipeline의 fit()과 predict()만으로 한꺼번에 피처 벡터화와 ML 학습/예측이 가능.\n",
        "pipeline.fit(X_train, y_train)\n",
        "pred = pipeline.predict(X_test)\n",
        "print(\"Pipeline을 통한 Logistic Regression의 예측 정확도는 {0:.3f}\".format(\n",
        "    accuracy_score(y_test, pred)\n",
        "))"
      ],
      "metadata": {
        "id": "zbW3KsA2oc4w"
      },
      "execution_count": null,
      "outputs": []
    },
    {
      "cell_type": "markdown",
      "source": [
        ">> 기존 TfidVectorizer의 피처 벡터화와 LogisticRegression의 학습과 예측이 Pipeline의 fit()과 predict()로 통일돼 수행됨"
      ],
      "metadata": {
        "id": "gOpdCw7joz8i"
      }
    },
    {
      "cell_type": "markdown",
      "source": [
        "* 사이킷런은 GridSearchCV 클래스의 생성 파라미터로 Pipeline을 입력해 Pipeline 기반에서도 하이퍼 파라미터 튜닝을 GridSearchCV 방식으로 진행할 수 있게 함\n",
        "\n",
        "    -> 이렇게 하면 피처 벡터화(TfidVectorizer)를 위한 파라미터와 ML 알고리즘(Logistic Regression)의 하이퍼 파라미터를 모두 한 번에 GridSearchCV를 이용해 최적화할 수 있음\n",
        "\n",
        "* 그러나 param_grid의 입력 값 설정이 약간 다름\n",
        "\n",
        "    * 딕셔너리 형태의 Key와 Value 값을 가지며, Value를 리스트 형태로 입력하는 것은 동일\n",
        "    \n",
        "    * 다만 Key 값이 `tfidf_vect__ngram_range`와 같이 하이퍼 파라미터명과 객체 변수명이 결합돼 제공됨\n",
        "\n",
        "* Pipeline + GridSearchCV를 적용할 때 유의할 점은 모두의 파라미터를 최적화하려면 너무 많은 튜닝 시간이 소모된다는 점임"
      ],
      "metadata": {
        "id": "EhmSzAPBpcw5"
      }
    },
    {
      "cell_type": "code",
      "source": [
        "from sklearn.pipeline import Pipeline\n",
        "\n",
        "pipeline = Pipeline([\n",
        "    (\"tfidf_vect\", TfidfVectorizer(stop_words = \"english\")),\n",
        "    (\"lr_clf\", LogisticRegression())\n",
        "])\n",
        "\n",
        "# Pipeline에 기술된 각각의 객체 변수에 언더바(_) 2개를 연달아 붙여 GridSearchCV에 사용될\n",
        "# 파라미터/하이퍼 파라미터 이름과 값을 설정.\n",
        "params = {\"tfidf_vect__ngram_range\": [(1, 1), (1, 2), (1, 3)],\n",
        "          \"tfidf_vect__max_df\": [100, 300, 700],\n",
        "          \"lr_clf__C\": [1, 5, 10]\n",
        "          }\n",
        "\n",
        "# GridSearchCV의 생성자에 Estimator가 아닌 Pipeline 객체 입력\n",
        "grid_cv_pipe = GridSearchCV(pipeline, param_grid = params, cv = 3, scoring = \"accuracy\", verbose = 1)\n",
        "grid_cv_pipe.fit(X_train, y_train)\n",
        "print(grid_cv_pipe.best_params_, grid_cv_pipe.best_score_)\n",
        "\n",
        "pred = grid_cv_pipe.predict(X_test)\n",
        "print(\"Pipeline을 통한 Logistic Regression의 예측 정확도는 {0:.3f}\".format(\n",
        "    accuracy_score(y_test, pred)\n",
        "))"
      ],
      "metadata": {
        "id": "TtpoDckZqcjZ"
      },
      "execution_count": null,
      "outputs": []
    }
  ]
}